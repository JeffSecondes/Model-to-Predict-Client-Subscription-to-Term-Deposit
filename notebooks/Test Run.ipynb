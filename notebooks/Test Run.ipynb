{
 "cells": [
  {
   "cell_type": "code",
   "execution_count": 2,
   "metadata": {},
   "outputs": [
    {
     "name": "stdout",
     "output_type": "stream",
     "text": [
      "Parent Directory: c:\\Users\\barto\\Documents\\Lambton\\Term 3\\2023F-T3 AML 3104 - Neural Networks and Deep Learning\\AML-3104-Project\n"
     ]
    }
   ],
   "source": [
    "import os\n",
    "import pickle\n",
    "\n",
    "parent_directory = os.path.abspath(os.curdir).rsplit('\\\\', 1)[0]\n",
    "print('Parent Directory:',parent_directory)\n",
    "\n",
    "# model_dtree = pickle.load(open('model_dtree.pkl', 'rb'))\n",
    "# scaler = pickle.load(open('scaler.pkl', 'rb'))\n",
    "# outlier_limits = pickle.load(open('outlier_limits.pkl', 'rb'))\n",
    "\n",
    "outlier_limits = pickle.load(open(parent_directory + \"\\\\models\\\\outlier_limits.pkl\",'rb'))\n",
    "scaler = pickle.load(open(parent_directory + \"\\\\models\\\\scaler.pkl\",'rb'))\n",
    "model_dtree = pickle.load(open(parent_directory + \"\\\\models\\\\model_dtree.pkl\",'rb'))\n",
    "# model_ann = pickle.load(open(parent_directory + \"\\\\models\\\\model_ann.pkl\",'rb'))"
   ]
  },
  {
   "cell_type": "code",
   "execution_count": 3,
   "metadata": {},
   "outputs": [],
   "source": [
    "import pickle\n",
    "import pandas as pd\n",
    "import numpy as np\n",
    "from sklearn.preprocessing import StandardScaler\n",
    "from sklearn.linear_model import Ridge\n",
    "from sklearn.metrics import mean_absolute_error,mean_squared_error,r2_score\n",
    "from flask import Flask,request,jsonify,render_template"
   ]
  },
  {
   "cell_type": "code",
   "execution_count": 102,
   "metadata": {},
   "outputs": [],
   "source": [
    "        # age = float(request.form.get('58'))\n",
    "        # balance = float(request.form.get('500'))\n",
    "        # pdays = float(request.form.get('30'))\n",
    "        # previous = float(request.form.get('2'))\n",
    "        # job_retired_student = request.form.get('retired')\n",
    "        # marital_single = request.form.get('single')\n",
    "        # education_primary_secondary = request.form.get('primary')\n",
    "        # housing_yes = request.form.get('yes')\n",
    "        # loan_yes = request.form.get('yes')\n",
    "        # contact_cellular_telephone = request.form.get('cellular')\n",
    "        # month_feb_mar_apr_sep_oct_dec = request.form.get('feb')\n",
    "        # poutcome_success = request.form.get('success')\n",
    "        \n",
    "age = float('1')\n",
    "balance = float('0')\n",
    "pdays = float('0')\n",
    "previous = float('0')\n",
    "job = 'unknown'\n",
    "marital = 'divorced'\n",
    "education = 'unknown'\n",
    "housing = 'no'\n",
    "loan = 'no'\n",
    "contact = 'unknown'\n",
    "month = 'jan'\n",
    "poutcome = 'failure'\n",
    "        "
   ]
  },
  {
   "cell_type": "code",
   "execution_count": 103,
   "metadata": {},
   "outputs": [
    {
     "data": {
      "text/html": [
       "<div>\n",
       "<style scoped>\n",
       "    .dataframe tbody tr th:only-of-type {\n",
       "        vertical-align: middle;\n",
       "    }\n",
       "\n",
       "    .dataframe tbody tr th {\n",
       "        vertical-align: top;\n",
       "    }\n",
       "\n",
       "    .dataframe thead th {\n",
       "        text-align: right;\n",
       "    }\n",
       "</style>\n",
       "<table border=\"1\" class=\"dataframe\">\n",
       "  <thead>\n",
       "    <tr style=\"text-align: right;\">\n",
       "      <th></th>\n",
       "      <th>age</th>\n",
       "      <th>balance</th>\n",
       "      <th>pdays</th>\n",
       "      <th>previous</th>\n",
       "      <th>job</th>\n",
       "      <th>marital</th>\n",
       "      <th>education</th>\n",
       "      <th>housing</th>\n",
       "      <th>loan</th>\n",
       "      <th>contact</th>\n",
       "      <th>month</th>\n",
       "      <th>poutcome</th>\n",
       "      <th>default</th>\n",
       "    </tr>\n",
       "  </thead>\n",
       "  <tbody>\n",
       "    <tr>\n",
       "      <th>0</th>\n",
       "      <td>1.0</td>\n",
       "      <td>0.0</td>\n",
       "      <td>0.0</td>\n",
       "      <td>0.0</td>\n",
       "      <td>unknown</td>\n",
       "      <td>divorced</td>\n",
       "      <td>unknown</td>\n",
       "      <td>no</td>\n",
       "      <td>no</td>\n",
       "      <td>unknown</td>\n",
       "      <td>jan</td>\n",
       "      <td>failure</td>\n",
       "      <td>x</td>\n",
       "    </tr>\n",
       "  </tbody>\n",
       "</table>\n",
       "</div>"
      ],
      "text/plain": [
       "   age  balance  pdays  previous      job   marital education housing loan  \\\n",
       "0  1.0      0.0    0.0       0.0  unknown  divorced   unknown      no   no   \n",
       "\n",
       "   contact month poutcome default  \n",
       "0  unknown   jan  failure       x  "
      ]
     },
     "execution_count": 103,
     "metadata": {},
     "output_type": "execute_result"
    }
   ],
   "source": [
    "        model_data = pd.DataFrame({\n",
    "                'age' : [age],\n",
    "                'balance' : [balance],\n",
    "                'pdays' : [pdays],\n",
    "                'previous' : [previous],\n",
    "                'job' : [job],\n",
    "                'marital' : [marital],\n",
    "                'education' : [education],\n",
    "                'housing' : [housing],\n",
    "                'loan' : [loan],\n",
    "                'contact' : [contact],\n",
    "                'month' : [month],\n",
    "                'poutcome' : [poutcome],\n",
    "                \n",
    "                'default' : ['x'],\n",
    "                                \n",
    "                # 'age',\n",
    "                # 'balance',\n",
    "                # 'pdays'\n",
    "                # 'previous',\n",
    "                # 'job_retired_student',\n",
    "                # 'marital_single',\n",
    "                # 'education_primary_secondary',\n",
    "                # 'default_yes',\n",
    "                # 'housing_yes',\n",
    "                # 'loan_yes',\n",
    "                # 'contact_cellular_telephone',\n",
    "                # 'month_feb_mar_apr_sep_oct_dec',\n",
    "                # 'poutcome_success'\n",
    "                                  \n",
    "                })\n",
    "model_data"
   ]
  },
  {
   "cell_type": "code",
   "execution_count": 104,
   "metadata": {},
   "outputs": [
    {
     "data": {
      "text/html": [
       "<div>\n",
       "<style scoped>\n",
       "    .dataframe tbody tr th:only-of-type {\n",
       "        vertical-align: middle;\n",
       "    }\n",
       "\n",
       "    .dataframe tbody tr th {\n",
       "        vertical-align: top;\n",
       "    }\n",
       "\n",
       "    .dataframe thead th {\n",
       "        text-align: right;\n",
       "    }\n",
       "</style>\n",
       "<table border=\"1\" class=\"dataframe\">\n",
       "  <thead>\n",
       "    <tr style=\"text-align: right;\">\n",
       "      <th></th>\n",
       "      <th>age</th>\n",
       "      <th>balance</th>\n",
       "      <th>pdays</th>\n",
       "      <th>previous</th>\n",
       "      <th>job</th>\n",
       "      <th>marital</th>\n",
       "      <th>education</th>\n",
       "      <th>housing</th>\n",
       "      <th>loan</th>\n",
       "      <th>contact</th>\n",
       "      <th>...</th>\n",
       "      <th>default</th>\n",
       "      <th>job_retired_student</th>\n",
       "      <th>marital_single</th>\n",
       "      <th>education_primary_secondary</th>\n",
       "      <th>default_yes</th>\n",
       "      <th>housing_yes</th>\n",
       "      <th>loan_yes</th>\n",
       "      <th>contact_cellular_telephone</th>\n",
       "      <th>month_feb_mar_apr_sep_oct_dec</th>\n",
       "      <th>poutcome_success</th>\n",
       "    </tr>\n",
       "  </thead>\n",
       "  <tbody>\n",
       "    <tr>\n",
       "      <th>0</th>\n",
       "      <td>1.0</td>\n",
       "      <td>0.0</td>\n",
       "      <td>0.0</td>\n",
       "      <td>0.0</td>\n",
       "      <td>unknown</td>\n",
       "      <td>divorced</td>\n",
       "      <td>unknown</td>\n",
       "      <td>no</td>\n",
       "      <td>no</td>\n",
       "      <td>unknown</td>\n",
       "      <td>...</td>\n",
       "      <td>x</td>\n",
       "      <td>0</td>\n",
       "      <td>0</td>\n",
       "      <td>0</td>\n",
       "      <td>0</td>\n",
       "      <td>0</td>\n",
       "      <td>0</td>\n",
       "      <td>0</td>\n",
       "      <td>0</td>\n",
       "      <td>0</td>\n",
       "    </tr>\n",
       "  </tbody>\n",
       "</table>\n",
       "<p>1 rows × 22 columns</p>\n",
       "</div>"
      ],
      "text/plain": [
       "   age  balance  pdays  previous      job   marital education housing loan  \\\n",
       "0  1.0      0.0    0.0       0.0  unknown  divorced   unknown      no   no   \n",
       "\n",
       "   contact  ... default job_retired_student marital_single  \\\n",
       "0  unknown  ...       x                   0              0   \n",
       "\n",
       "   education_primary_secondary  default_yes  housing_yes  loan_yes  \\\n",
       "0                            0            0            0         0   \n",
       "\n",
       "   contact_cellular_telephone  month_feb_mar_apr_sep_oct_dec  poutcome_success  \n",
       "0                           0                              0                 0  \n",
       "\n",
       "[1 rows x 22 columns]"
      ]
     },
     "execution_count": 104,
     "metadata": {},
     "output_type": "execute_result"
    }
   ],
   "source": [
    "        model_data['job_retired_student'] = model_data['job'].apply(lambda value: 1 if value.lower() in ['retired', 'student'] else 0)\n",
    "        model_data['marital_single'] = model_data['marital'].apply(lambda value: 1 if value.lower() == 'single' else 0)\n",
    "        model_data['education_primary_secondary'] = model_data['education'].apply(lambda value: 1 if value.lower() in ['primary','secondary'] else 0)\n",
    "        model_data['default_yes'] = model_data['default'].apply(lambda value: 1 if value.lower() == 'yes' else 0)\n",
    "        model_data['housing_yes'] = model_data['housing'].apply(lambda value: 1 if value.lower() == 'yes' else 0)\n",
    "        model_data['loan_yes'] = model_data['loan'].apply(lambda value: 1 if value.lower() == 'yes' else 0)\n",
    "        model_data['contact_cellular_telephone'] = model_data['contact'].apply(lambda value: 1 if value.lower() in ['cellular','telephone'] else 0)\n",
    "        model_data['month_feb_mar_apr_sep_oct_dec'] = model_data['month'].apply(lambda value: 1 if value.lower() in ['feb', 'mar', 'apr', 'oct', 'sep', 'dec'] else 0)\n",
    "        model_data['poutcome_success'] = model_data['poutcome'].apply(lambda value: 1 if value.lower() == 'success' else 0)\n",
    "        \n",
    "        model_data"
   ]
  },
  {
   "cell_type": "code",
   "execution_count": 105,
   "metadata": {},
   "outputs": [
    {
     "data": {
      "text/html": [
       "<div>\n",
       "<style scoped>\n",
       "    .dataframe tbody tr th:only-of-type {\n",
       "        vertical-align: middle;\n",
       "    }\n",
       "\n",
       "    .dataframe tbody tr th {\n",
       "        vertical-align: top;\n",
       "    }\n",
       "\n",
       "    .dataframe thead th {\n",
       "        text-align: right;\n",
       "    }\n",
       "</style>\n",
       "<table border=\"1\" class=\"dataframe\">\n",
       "  <thead>\n",
       "    <tr style=\"text-align: right;\">\n",
       "      <th></th>\n",
       "      <th>age</th>\n",
       "      <th>balance</th>\n",
       "      <th>pdays</th>\n",
       "      <th>previous</th>\n",
       "      <th>job_retired_student</th>\n",
       "      <th>marital_single</th>\n",
       "      <th>education_primary_secondary</th>\n",
       "      <th>default_yes</th>\n",
       "      <th>housing_yes</th>\n",
       "      <th>loan_yes</th>\n",
       "      <th>contact_cellular_telephone</th>\n",
       "      <th>month_feb_mar_apr_sep_oct_dec</th>\n",
       "      <th>poutcome_success</th>\n",
       "    </tr>\n",
       "  </thead>\n",
       "  <tbody>\n",
       "    <tr>\n",
       "      <th>0</th>\n",
       "      <td>1.0</td>\n",
       "      <td>0.0</td>\n",
       "      <td>0.0</td>\n",
       "      <td>0.0</td>\n",
       "      <td>0</td>\n",
       "      <td>0</td>\n",
       "      <td>0</td>\n",
       "      <td>0</td>\n",
       "      <td>0</td>\n",
       "      <td>0</td>\n",
       "      <td>0</td>\n",
       "      <td>0</td>\n",
       "      <td>0</td>\n",
       "    </tr>\n",
       "  </tbody>\n",
       "</table>\n",
       "</div>"
      ],
      "text/plain": [
       "   age  balance  pdays  previous  job_retired_student  marital_single  \\\n",
       "0  1.0      0.0    0.0       0.0                    0               0   \n",
       "\n",
       "   education_primary_secondary  default_yes  housing_yes  loan_yes  \\\n",
       "0                            0            0            0         0   \n",
       "\n",
       "   contact_cellular_telephone  month_feb_mar_apr_sep_oct_dec  poutcome_success  \n",
       "0                           0                              0                 0  "
      ]
     },
     "execution_count": 105,
     "metadata": {},
     "output_type": "execute_result"
    }
   ],
   "source": [
    "        x_test = model_data[['age',\n",
    "                        'balance',\n",
    "                        'pdays',\n",
    "                        'previous',\n",
    "                        'job_retired_student',\n",
    "                        'marital_single',\n",
    "                        'education_primary_secondary',\n",
    "                        'default_yes', # Added\n",
    "                        'housing_yes',\n",
    "                        'loan_yes',\n",
    "                        'contact_cellular_telephone',\n",
    "                        'month_feb_mar_apr_sep_oct_dec',\n",
    "                        'poutcome_success',\n",
    "                        ]]\n",
    "        x_test"
   ]
  },
  {
   "cell_type": "code",
   "execution_count": 106,
   "metadata": {},
   "outputs": [
    {
     "name": "stderr",
     "output_type": "stream",
     "text": [
      "C:\\Users\\barto\\AppData\\Local\\Temp\\ipykernel_15060\\1909324914.py:19: SettingWithCopyWarning: \n",
      "A value is trying to be set on a copy of a slice from a DataFrame.\n",
      "Try using .loc[row_indexer,col_indexer] = value instead\n",
      "\n",
      "See the caveats in the documentation: https://pandas.pydata.org/pandas-docs/stable/user_guide/indexing.html#returning-a-view-versus-a-copy\n",
      "  outData[colName] = np.where( inData[colName] > max_val, max_val, np.where( inData[colName] < min_val, min_val, inData[colName] ) )\n",
      "C:\\Users\\barto\\AppData\\Local\\Temp\\ipykernel_15060\\1909324914.py:25: SettingWithCopyWarning: \n",
      "A value is trying to be set on a copy of a slice from a DataFrame.\n",
      "Try using .loc[row_indexer,col_indexer] = value instead\n",
      "\n",
      "See the caveats in the documentation: https://pandas.pydata.org/pandas-docs/stable/user_guide/indexing.html#returning-a-view-versus-a-copy\n",
      "  outData[colName] = inData[colName].values\n"
     ]
    },
    {
     "data": {
      "text/html": [
       "<div>\n",
       "<style scoped>\n",
       "    .dataframe tbody tr th:only-of-type {\n",
       "        vertical-align: middle;\n",
       "    }\n",
       "\n",
       "    .dataframe tbody tr th {\n",
       "        vertical-align: top;\n",
       "    }\n",
       "\n",
       "    .dataframe thead th {\n",
       "        text-align: right;\n",
       "    }\n",
       "</style>\n",
       "<table border=\"1\" class=\"dataframe\">\n",
       "  <thead>\n",
       "    <tr style=\"text-align: right;\">\n",
       "      <th></th>\n",
       "      <th>age</th>\n",
       "      <th>balance</th>\n",
       "      <th>pdays</th>\n",
       "      <th>previous</th>\n",
       "      <th>job_retired_student</th>\n",
       "      <th>marital_single</th>\n",
       "      <th>education_primary_secondary</th>\n",
       "      <th>default_yes</th>\n",
       "      <th>housing_yes</th>\n",
       "      <th>loan_yes</th>\n",
       "      <th>contact_cellular_telephone</th>\n",
       "      <th>month_feb_mar_apr_sep_oct_dec</th>\n",
       "      <th>poutcome_success</th>\n",
       "    </tr>\n",
       "  </thead>\n",
       "  <tbody>\n",
       "    <tr>\n",
       "      <th>0</th>\n",
       "      <td>10.5</td>\n",
       "      <td>0.0</td>\n",
       "      <td>0.0</td>\n",
       "      <td>0.0</td>\n",
       "      <td>0</td>\n",
       "      <td>0</td>\n",
       "      <td>0</td>\n",
       "      <td>0</td>\n",
       "      <td>0</td>\n",
       "      <td>0</td>\n",
       "      <td>0</td>\n",
       "      <td>0</td>\n",
       "      <td>0</td>\n",
       "    </tr>\n",
       "  </tbody>\n",
       "</table>\n",
       "</div>"
      ],
      "text/plain": [
       "    age  balance  pdays  previous  job_retired_student  marital_single  \\\n",
       "0  10.5      0.0    0.0       0.0                    0               0   \n",
       "\n",
       "   education_primary_secondary  default_yes  housing_yes  loan_yes  \\\n",
       "0                            0            0            0         0   \n",
       "\n",
       "   contact_cellular_telephone  month_feb_mar_apr_sep_oct_dec  poutcome_success  \n",
       "0                           0                              0                 0  "
      ]
     },
     "execution_count": 106,
     "metadata": {},
     "output_type": "execute_result"
    }
   ],
   "source": [
    "# Function to check for outliers and cap values of outliers\n",
    "def RemoveOutliers(inData,inOutliers):\n",
    "    \n",
    "    # Initialize blank dataframes\n",
    "    outData = inData\n",
    "    \n",
    "    # Loop through all features\n",
    "    for colName in inData.columns:\n",
    "    \n",
    "        if colName in list(inOutliers.keys()):\n",
    "        \n",
    "            min_val = inOutliers.get(colName)[0]  # Lower limit\n",
    "            max_val = inOutliers.get(colName)[1]  # Upper limit\n",
    "        \n",
    "        # If the value is lower/greater than the min/max limits, it is an outlier\n",
    "            outliers = inData[(inData[colName] < min_val) | (inData[colName] > max_val)]\n",
    "        \n",
    "        # For outliers, apply capping -- replace the value with either the lower or upper limit\n",
    "            outData[colName] = np.where( inData[colName] > max_val, max_val, np.where( inData[colName] < min_val, min_val, inData[colName] ) )\n",
    "        \n",
    "        # Summary per feature\n",
    "            # print(f'No. of outliers for {colName}: {outliers.shape[0]} \\t\\tLimits: {round(min_val,4)} , {round(max_val,4)}')\n",
    "        \n",
    "        else:\n",
    "            outData[colName] = inData[colName].values\n",
    "    \n",
    "    return outData\n",
    " # Check and handle outliers of the data. For the test set, the lower/upper limits will be the same as the training set.\n",
    "x_test_no_outliers = RemoveOutliers(x_test,outlier_limits)\n",
    "x_test_no_outliers"
   ]
  },
  {
   "cell_type": "code",
   "execution_count": 107,
   "metadata": {},
   "outputs": [],
   "source": [
    "# Scale features\n",
    "x_test_sc = scaler.transform(x_test_no_outliers)"
   ]
  },
  {
   "cell_type": "code",
   "execution_count": 108,
   "metadata": {},
   "outputs": [
    {
     "data": {
      "text/plain": [
       "array([0], dtype=int64)"
      ]
     },
     "execution_count": 108,
     "metadata": {},
     "output_type": "execute_result"
    }
   ],
   "source": [
    "# Predict target variable\n",
    "y_pred_test_dtree = model_dtree.predict(x_test_sc)\n",
    "y_pred_test_dtree"
   ]
  },
  {
   "cell_type": "code",
   "execution_count": 109,
   "metadata": {},
   "outputs": [
    {
     "data": {
      "text/plain": [
       "'No'"
      ]
     },
     "execution_count": 109,
     "metadata": {},
     "output_type": "execute_result"
    }
   ],
   "source": [
    "if [y_pred_test_dtree][0][0] == 1:\n",
    "    result = 'Yes'\n",
    "else:\n",
    "    result = 'No'\n",
    "result"
   ]
  },
  {
   "cell_type": "code",
   "execution_count": 110,
   "metadata": {},
   "outputs": [
    {
     "name": "stdout",
     "output_type": "stream",
     "text": [
      "hey\n"
     ]
    },
    {
     "data": {
      "text/plain": [
       "array([0], dtype=int64)"
      ]
     },
     "execution_count": 110,
     "metadata": {},
     "output_type": "execute_result"
    }
   ],
   "source": [
    "print('hey')\n",
    "y_pred_test_dtree"
   ]
  },
  {
   "cell_type": "code",
   "execution_count": null,
   "metadata": {},
   "outputs": [],
   "source": []
  }
 ],
 "metadata": {
  "kernelspec": {
   "display_name": "Python 3",
   "language": "python",
   "name": "python3"
  },
  "language_info": {
   "codemirror_mode": {
    "name": "ipython",
    "version": 3
   },
   "file_extension": ".py",
   "mimetype": "text/x-python",
   "name": "python",
   "nbconvert_exporter": "python",
   "pygments_lexer": "ipython3",
   "version": "3.10.7"
  }
 },
 "nbformat": 4,
 "nbformat_minor": 2
}
